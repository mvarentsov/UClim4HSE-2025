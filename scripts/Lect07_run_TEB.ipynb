{
  "nbformat": 4,
  "nbformat_minor": 0,
  "metadata": {
    "colab": {
      "provenance": [],
      "authorship_tag": "ABX9TyOAJ9qqotq9mmGbguRgtexY",
      "include_colab_link": true
    },
    "kernelspec": {
      "name": "python3",
      "display_name": "Python 3"
    },
    "language_info": {
      "name": "python"
    }
  },
  "cells": [
    {
      "cell_type": "markdown",
      "metadata": {
        "id": "view-in-github",
        "colab_type": "text"
      },
      "source": [
        "<a href=\"https://colab.research.google.com/github/mvarentsov/UClim4HSE-2025/blob/main/scripts/Lect07_run_TEB.ipynb\" target=\"_parent\"><img src=\"https://colab.research.google.com/assets/colab-badge.svg\" alt=\"Open In Colab\"/></a>"
      ]
    },
    {
      "cell_type": "code",
      "source": [
        "import os\n",
        "import pandas as pd\n",
        "\n",
        "%pip install f90nml\n",
        "import f90nml"
      ],
      "metadata": {
        "id": "LUGBJoRDzAIW"
      },
      "execution_count": null,
      "outputs": []
    },
    {
      "cell_type": "code",
      "execution_count": null,
      "metadata": {
        "id": "fXKpUmEZHlfr"
      },
      "outputs": [],
      "source": [
        "from google.colab import drive\n",
        "drive.mount('/content/drive')"
      ]
    },
    {
      "cell_type": "markdown",
      "source": [
        "### Скачивание модели из репозитория\n",
        "Остророжно, директорая удаляется и создается заново!"
      ],
      "metadata": {
        "id": "EIp55v9WfEW3"
      }
    },
    {
      "cell_type": "code",
      "source": [
        "%cd /content/drive/MyDrive/\n",
        "%pwd\n",
        "\n",
        "os.makedirs ('UClim4HSE', exist_ok = True)\n",
        "\n",
        "%cd /content/drive/MyDrive/UClim4HSE/\n",
        "%pwd\n",
        "\n",
        "if os.path.isdir ('TEB_open_source_v3_sfx8.1_orig_namelist'):\n",
        "   %rm -r 'TEB_open_source_v3_sfx8.1_orig_namelist'\n",
        "\n",
        "print ('cloning repository')\n",
        "!git clone https://github.com/mkolennikova/TEB_open_source_v3_sfx8.1_orig_namelist.git\n"
      ],
      "metadata": {
        "id": "UzRTIxZAH08y",
        "collapsed": true
      },
      "execution_count": null,
      "outputs": []
    },
    {
      "cell_type": "markdown",
      "source": [
        "### Компиляция модели"
      ],
      "metadata": {
        "id": "7NPRR4eMfXFk"
      }
    },
    {
      "cell_type": "code",
      "source": [
        "%cd '/content/drive/MyDrive/UClim4HSE/TEB_open_source_v3_sfx8.1_orig_namelist'\n",
        "!make clean\n",
        "!make all"
      ],
      "metadata": {
        "id": "FDjcAKqWNc1G"
      },
      "execution_count": null,
      "outputs": []
    },
    {
      "cell_type": "markdown",
      "source": [
        "#### Проверка наличия исполняемого файла"
      ],
      "metadata": {
        "id": "fO87mn7OyWLr"
      }
    },
    {
      "cell_type": "code",
      "source": [
        "%ll *.exe"
      ],
      "metadata": {
        "id": "lAe-60TRxwhl"
      },
      "execution_count": null,
      "outputs": []
    },
    {
      "cell_type": "markdown",
      "source": [
        "#### Запуск исполняемого файла модели"
      ],
      "metadata": {
        "id": "1JN3EARMfc8_"
      }
    },
    {
      "cell_type": "code",
      "source": [
        "!./tester.exe"
      ],
      "metadata": {
        "id": "MmpnyqERpS1_"
      },
      "execution_count": null,
      "outputs": []
    },
    {
      "cell_type": "markdown",
      "source": [
        "#### Проверим наличие результатов моделирования\n",
        "\n"
      ],
      "metadata": {
        "id": "8qCbVmSuyhkO"
      }
    },
    {
      "cell_type": "code",
      "source": [
        "%ll output_Moscow/"
      ],
      "metadata": {
        "id": "1Jw0KMLSydas"
      },
      "execution_count": null,
      "outputs": []
    },
    {
      "cell_type": "markdown",
      "source": [
        "#### Чтение и визуализация результатов моделирования"
      ],
      "metadata": {
        "id": "eJUJfEmfyz6H"
      }
    },
    {
      "cell_type": "code",
      "source": [
        "def read_TEB_output (output_dir, namelist_path):\n",
        "  file_paths = [f for f in os.listdir(output_dir)]\n",
        "\n",
        "  output_df = pd.DataFrame()\n",
        "  for out_file in file_paths:\n",
        "    param = pd.read_csv(output_dir+'/'+out_file, header=None)\n",
        "    output_df[out_file[:-4]] = param\n",
        "\n",
        "  #display(output_df)\n",
        "\n",
        "  namelist = f90nml.read(namelist_path) #'src_driver/namelist_forcing.nml')\n",
        "\n",
        "  #display (namelist['tebforcing'])\n",
        "\n",
        "  t1 = pd.Timestamp (namelist['tebforcing']['iyear'], namelist['tebforcing']['imonth'],  namelist['tebforcing']['iday'])\n",
        "  t2 = t1 + pd.Timedelta (seconds=namelist['tebforcing']['timestep']) * (namelist['tebforcing']['num_timesteps']-2)\n",
        "\n",
        "  output_df.index = pd.date_range(t1, t2, freq=pd.Timedelta (seconds=namelist['tebforcing']['timestep']))\n",
        "  return output_df\n",
        "\n",
        "teb_output = read_TEB_output ('output_Moscow', 'src_driver/namelist_forcing.nml')\n",
        "display(c)\n",
        "\n",
        "\n"
      ],
      "metadata": {
        "id": "jYLQRMxMy6IH"
      },
      "execution_count": null,
      "outputs": []
    },
    {
      "cell_type": "code",
      "source": [],
      "metadata": {
        "id": "x-KVrzBk13SP"
      },
      "execution_count": null,
      "outputs": []
    },
    {
      "cell_type": "code",
      "source": [
        "pd.options.plotting.backend = \"plotly\"\n",
        "\n",
        "fig = teb_output[['T_CANYON', 'TI_BLD']].plot()\n",
        "fig.show()"
      ],
      "metadata": {
        "id": "j5FD6R8C1Vac"
      },
      "execution_count": null,
      "outputs": []
    }
  ]
}