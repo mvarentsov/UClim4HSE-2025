{
  "cells": [
    {
      "cell_type": "markdown",
      "id": "0ea22c4e",
      "metadata": {
        "id": "0ea22c4e"
      },
      "source": [
        "## Подготовка форсинга для модели TEB по данным реанализа ERA5"
      ]
    },
    {
      "cell_type": "code",
      "execution_count": 9,
      "id": "aa25ac7d",
      "metadata": {
        "id": "aa25ac7d"
      },
      "outputs": [],
      "source": [
        "import xarray as xr\n",
        "import numpy as np\n",
        "import os\n",
        "from tqdm import tqdm"
      ]
    },
    {
      "cell_type": "markdown",
      "source": [
        "### Для работы в Google Colab"
      ],
      "metadata": {
        "id": "hqbZ7yWhsWw6"
      },
      "id": "hqbZ7yWhsWw6"
    },
    {
      "cell_type": "code",
      "source": [
        "from google.colab import drive\n",
        "drive.mount('/content/drive')\n",
        "\n",
        "%cd /content/drive/MyDrive/UClim4HSE/"
      ],
      "metadata": {
        "id": "pajeM4K-rp2-"
      },
      "id": "pajeM4K-rp2-",
      "execution_count": null,
      "outputs": []
    },
    {
      "cell_type": "markdown",
      "source": [],
      "metadata": {
        "id": "RRFOb7Rlrpgk"
      },
      "id": "RRFOb7Rlrpgk"
    },
    {
      "cell_type": "markdown",
      "id": "25a19b32",
      "metadata": {
        "id": "25a19b32"
      },
      "source": [
        "### Чтение данных реанализа, конвертация в необходимый формат"
      ]
    },
    {
      "cell_type": "code",
      "execution_count": 6,
      "id": "114bfdd2-129e-4441-be02-e17c9656ddac",
      "metadata": {
        "id": "114bfdd2-129e-4441-be02-e17c9656ddac"
      },
      "outputs": [],
      "source": [
        "in_path =\"ERA5_demo_data/Moscow 2022.nc\" #путь  данным реанализа\n",
        "\n",
        "\n",
        "point_crd = [55.5, 37.5] #координаты точки\n",
        "\n",
        "ds = xr.open_dataset (in_path)\n",
        "ds4point = ds.sel(latitude = point_crd[0], longitude = point_crd[1], method='nearest')\n",
        "\n",
        "t  = ds4point['t2m']-273.15\n",
        "td = ds4point['d2m']-273.15\n",
        "p  = ds4point['sp']\n",
        "\n",
        "E = 100 * 6.1*(10 ** (7.45*t  / (235+t)))\n",
        "e = 100 * 6.1*(10 ** (7.45*td / (235+td)))\n",
        "\n",
        "ds4point['rh2m'] = 100 * (e / E)\n",
        "\n",
        "ds4point['Forc_TA']   = ds4point['t2m']\n",
        "ds4point['Forc_QA'] = 0.623 * e / (p - 0.377 * e);\n",
        "\n",
        "ds4point['Forc_WIND'] = np.sqrt (ds4point['u10']**2 + ds4point['v10']**2)\n",
        "ds4point['Forc_DIR']  = np.mod(180+(180/np.pi) * np.arctan2(ds4point['u10'], ds4point['v10']), 360)\n",
        "ds4point['Forc_DIR_SW'] = ds4point['fdir']/3600\n",
        "ds4point['Forc_SCA_SW'] = ds4point['ssrd']/3600-ds4point['fdir']/3600\n",
        "ds4point['Forc_LW'] = ds4point['strd']/3600\n",
        "ds4point['Forc_PS'] = ds4point['sp']\n",
        "\n",
        "is_rain_idx = np.where(ds4point['ptype'] < 2)[0]\n",
        "is_snow_idx = np.where(ds4point['ptype'] >= 2)[0]\n",
        "\n",
        "rain = np.zeros_like(ds4point['Forc_PS'])\n",
        "snow = np.zeros_like(ds4point['Forc_PS'])\n",
        "\n",
        "rain[is_rain_idx] = ds4point['tp'].to_numpy()[is_rain_idx]*1000/3600\n",
        "snow[is_snow_idx] = ds4point['tp'].to_numpy()[is_snow_idx]*1000/3600\n",
        "\n",
        "\n",
        "ds4point['Forc_RAIN'] = (ds4point['Forc_PS'].dims, rain)\n",
        "ds4point['Forc_SNOW'] = (ds4point['Forc_PS'].dims, snow)\n",
        "df4point = ds4point.to_dataframe()\n",
        "\n"
      ]
    },
    {
      "cell_type": "code",
      "execution_count": null,
      "id": "0c7781db-0bbe-452a-96c2-091218b25489",
      "metadata": {
        "id": "0c7781db-0bbe-452a-96c2-091218b25489"
      },
      "outputs": [],
      "source": [
        "df4point['Forc_RAIN'].plot()\n",
        "df4point['Forc_SNOW'].plot()"
      ]
    },
    {
      "cell_type": "markdown",
      "id": "7a1c5e19",
      "metadata": {
        "id": "7a1c5e19"
      },
      "source": [
        "### Запись форсинга в текстовые файлы"
      ]
    },
    {
      "cell_type": "code",
      "execution_count": null,
      "id": "71853de3-143e-4a30-b81d-64da7219b3b6",
      "metadata": {
        "id": "71853de3-143e-4a30-b81d-64da7219b3b6"
      },
      "outputs": [],
      "source": [
        "save_dir = 'TEB_forcing/' #путь к папке с форсингом\n",
        "\n",
        "os.makedirs(save_dir, exist_ok=True)\n",
        "\n",
        "for var in tqdm (df4point.columns):\n",
        "    if 'Forc_' in var:\n",
        "        np.savetxt(save_dir + var + '.txt', df4point[var].to_numpy(), '%.5f')\n",
        "\n",
        "df4point.to_csv (save_dir + 'full_df.csv')\n",
        ""
      ]
    }
  ],
  "metadata": {
    "kernelspec": {
      "display_name": "ML",
      "language": "python",
      "name": "python3"
    },
    "language_info": {
      "codemirror_mode": {
        "name": "ipython",
        "version": 3
      },
      "file_extension": ".py",
      "mimetype": "text/x-python",
      "name": "python",
      "nbconvert_exporter": "python",
      "pygments_lexer": "ipython3",
      "version": "3.12.8"
    },
    "colab": {
      "provenance": []
    }
  },
  "nbformat": 4,
  "nbformat_minor": 5
}