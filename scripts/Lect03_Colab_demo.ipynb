{
  "cells": [
    {
      "cell_type": "code",
      "execution_count": 14,
      "metadata": {
        "id": "gZxpWMB0OsL9"
      },
      "outputs": [],
      "source": [
        "import sys, os"
      ]
    },
    {
      "cell_type": "code",
      "execution_count": 1,
      "metadata": {
        "colab": {
          "base_uri": "https://localhost:8080/"
        },
        "id": "ZONtZWk5OBKz",
        "outputId": "8a554419-544c-44b2-f9da-57db17108d00"
      },
      "outputs": [
        {
          "name": "stdout",
          "output_type": "stream",
          "text": [
            "Mounted at /content/drive\n"
          ]
        }
      ],
      "source": [
        "from google.colab import drive\n",
        "drive.mount('/content/drive')"
      ]
    },
    {
      "cell_type": "code",
      "execution_count": 16,
      "metadata": {
        "colab": {
          "base_uri": "https://localhost:8080/"
        },
        "id": "osyOlRmlOXk4",
        "outputId": "c021dcf6-eacf-411d-db75-c2081a7c6ce1"
      },
      "outputs": [
        {
          "name": "stdout",
          "output_type": "stream",
          "text": [
            "/content/drive/MyDrive\n"
          ]
        }
      ],
      "source": [
        "%cd /content/drive/MyDrive/\n",
        "%pwd\n",
        "\n",
        "\n",
        "os.makedirs ('UClim4HSE', exist_ok = True)\n",
        "\n"
      ]
    },
    {
      "cell_type": "code",
      "execution_count": 17,
      "metadata": {
        "colab": {
          "base_uri": "https://localhost:8080/"
        },
        "id": "DY477F19O89E",
        "outputId": "d14dc568-e9c2-4d6e-d859-d4c331e7e56b"
      },
      "outputs": [
        {
          "name": "stdout",
          "output_type": "stream",
          "text": [
            "Cloning into 'ML4hydromet-2024'...\n",
            "remote: Enumerating objects: 152, done.\u001b[K\n",
            "remote: Counting objects: 100% (152/152), done.\u001b[K\n",
            "remote: Compressing objects: 100% (133/133), done.\u001b[K\n",
            "remote: Total 152 (delta 73), reused 60 (delta 14), pack-reused 0 (from 0)\u001b[K\n",
            "Receiving objects: 100% (152/152), 30.71 MiB | 10.75 MiB/s, done.\n",
            "Resolving deltas: 100% (73/73), done.\n",
            "Updating files: 100% (22/22), done.\n"
          ]
        }
      ],
      "source": [
        "!cd ML4hydromet/\n",
        "!git clone https://github.com/mvarentsov/UClim4HSE-2025.git"
      ]
    }
  ],
  "metadata": {
    "colab": {
      "provenance": []
    },
    "kernelspec": {
      "display_name": "Python 3",
      "name": "python3"
    },
    "language_info": {
      "name": "python"
    }
  },
  "nbformat": 4,
  "nbformat_minor": 0
}
