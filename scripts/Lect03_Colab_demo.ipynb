{
  "cells": [
    {
      "cell_type": "markdown",
      "source": [
        "## Монтируем гугл-диск к виртуальной машине"
      ],
      "metadata": {
        "id": "0z-JwyTdjvgk"
      }
    },
    {
      "cell_type": "code",
      "execution_count": null,
      "metadata": {
        "id": "ZONtZWk5OBKz"
      },
      "outputs": [],
      "source": [
        "import sys, os\n",
        "from google.colab import drive\n",
        "drive.mount('/content/drive')"
      ]
    },
    {
      "cell_type": "markdown",
      "source": [
        "## Скачиваем репозиторий *курса*"
      ],
      "metadata": {
        "id": "yf4uBjDrkAgb"
      }
    },
    {
      "cell_type": "code",
      "execution_count": null,
      "metadata": {
        "id": "osyOlRmlOXk4"
      },
      "outputs": [],
      "source": [
        "\n",
        "\n",
        "%cd /content/drive/MyDrive/\n",
        "%pwd\n",
        "\n",
        "\n",
        "os.makedirs ('UClim4HSE', exist_ok = True)\n",
        "\n",
        "%cd /content/drive/MyDrive/UClim4HSE/\n",
        "%pwd\n",
        "\n",
        "if not os.path.isdir('/content/drive/MyDrive/UClim4HSE/UClim4HSE-2025'):\n",
        "  print ('cloning repository')\n",
        "  !git clone https://github.com/mvarentsov/UClim4HSE-2025.git\n",
        "else:\n",
        "  print ('updating repository')\n",
        "  %cd /content/drive/MyDrive/UClim4HSE/UClim4HSE-2025/\n",
        "  ! git pull\n",
        "\n",
        "%cd /content/drive/MyDrive/UClim4HSE/\n"
      ]
    },
    {
      "cell_type": "code",
      "source": [
        "sys.path.append('/content/drive/MyDrive/UClim4HSE/UClim4HSE-2025/scripts/')\n",
        "import meteo_utils\n",
        "from datetime import date, datetime, timedelta"
      ],
      "metadata": {
        "id": "HUuzLo9IPU5o"
      },
      "execution_count": 24,
      "outputs": []
    },
    {
      "cell_type": "code",
      "source": [
        "\n",
        "station_id = 27518     # идентификатор станции, с которой нужны наблюдения\n",
        "start = date (2023,1,1) # начало периода загрузки данных\n",
        "end = date.today()      # конец  периода загрузки данных\n",
        "\n",
        "meteo_utils.load_weaclim4period (station_id, start, end, 'weaclim_data', adress=\"http://www.pogodaiklimat.ru/weather.php?\")\n"
      ],
      "metadata": {
        "id": "Cj_dhPDTSNKX"
      },
      "execution_count": null,
      "outputs": []
    },
    {
      "cell_type": "code",
      "source": [
        "\n",
        "df_urb = meteo_utils.read_weaclim_dir ('weaclim_data/27605')\n",
        "df_rur = meteo_utils.read_weaclim_dir ('weaclim_data/27518')\n",
        "\n",
        "df_urb = df_urb.rename(columns = {x:'urb_' + x for x in df_urb.columns})\n",
        "df_rur = df_rur.rename(columns = {x:'rur_' + x for x in df_rur.columns})\n",
        "\n",
        "df = df_urb.merge (df_rur, left_index=True, right_index=True)\n",
        "display(df.head())\n"
      ],
      "metadata": {
        "id": "hfw-SVvqTK6q"
      },
      "execution_count": null,
      "outputs": []
    },
    {
      "cell_type": "code",
      "source": [
        "from matplotlib import pyplot as plt\n",
        "\n",
        "%matplotlib inline\n",
        "plt.rcParams['figure.dpi'] = 200\n",
        "\n",
        "plt.figure()\n",
        "df['rur_t2m'].plot(color = 'blue')\n",
        "df['urb_t2m'].plot(color = 'red')\n",
        "plt.ylabel ('Temperature[K]')\n",
        "\n",
        "df_sel = df['2023-08':'2023-09']\n",
        "plt.figure()\n",
        "df_sel['rur_t2m'].plot(color = 'blue')\n",
        "df_sel['urb_t2m'].plot(color = 'red')\n",
        "plt.ylabel ('Temperature[K]')\n",
        "\n"
      ],
      "metadata": {
        "id": "sJunJ_xLkyQG"
      },
      "execution_count": null,
      "outputs": []
    },
    {
      "cell_type": "markdown",
      "source": [
        "## Интерактивный график с помощью plotly"
      ],
      "metadata": {
        "id": "8ru10zJikrsr"
      }
    },
    {
      "cell_type": "code",
      "source": [
        "\n",
        "import plotly.express as px\n",
        "\n",
        "fig = px.line(df, y=['rur_t2m', 'urb_t2m'], title='Simple Time Series Plot') #, labels={'Value': 'Cumulative Value'})\n",
        "fig.data[0].line.color = 'blue'  # Color for 'rur_t2m'\n",
        "fig.data[1].line.color = 'orange'  # Color for 'urb_t2m'\n",
        "fig.show()"
      ],
      "metadata": {
        "id": "6P8xhjt4TdM6"
      },
      "execution_count": null,
      "outputs": []
    }
  ],
  "metadata": {
    "colab": {
      "provenance": []
    },
    "kernelspec": {
      "display_name": "Python 3",
      "name": "python3"
    },
    "language_info": {
      "name": "python"
    }
  },
  "nbformat": 4,
  "nbformat_minor": 0
}