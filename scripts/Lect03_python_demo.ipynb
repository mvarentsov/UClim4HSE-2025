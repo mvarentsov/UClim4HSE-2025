{
  "cells": [
    {
      "cell_type": "markdown",
      "metadata": {
        "id": "34gWDace_nCv"
      },
      "source": [
        "# Технические средства анализа данных: основы Python\n",
        "\n",
        "### Полезные ссылки:\n",
        "\n",
        "- <a href=\"https://www.anaconda.com/download\">Anaconda distribution</a><br/>\n",
        "- <a href=\"https://code.visualstudio.com/docs/?dv=win64user\">VS Code</a> - VS Code IDE<br/>\n",
        "- <a href=\"https://www.jetbrains.com/pycharm/\">PyCharm</a> - PyCharm  IDE<br/>\n",
        "- <a href=\"https://colab.research.google.com/\">Google Colab</a> - Google Colab<br/>\n",
        "- <a href=\"https://numpy.org/\">Numpy documentation</a><br />\n",
        "- <a href=\"https://pandas.pydata.org/\">Pandas documentation</a><br />\n",
        "- <a href=\"https://matplotlib.org/\">Matplotlib documentation</a>\n",
        "\n",
        "### Дополнительные материалы:\n",
        "\n",
        "- [Питон для анализа данных(курс Физтеха)](https://miptstats.github.io/courses/python.html)<br />\n",
        "- [pythontutor (онлайн учебник Python)](https://pythontutor.ru/)<br />\n",
        "- [Cody, AI-помощник в написании кода](https://sourcegraph.com/cody)<br />\n",
        "- AI-помощники на основе ChatGPT в Телеграмм (ищите сами что больше нравится)<br />\n",
        "- [stackoverflow](https://stackoverflow.com/)<br />\n"
      ]
    },
    {
      "cell_type": "code",
      "execution_count": 6,
      "metadata": {
        "id": "zhcbdCy-_nCz",
        "outputId": "4072789b-e71c-4a36-a2e0-e661aa774a1a"
      },
      "outputs": [
        {
          "name": "stdout",
          "output_type": "stream",
          "text": [
            "hello world of Urban Climate Informatics!\n"
          ]
        }
      ],
      "source": [
        "print ('hello world of Urban Climate Informatics!')"
      ]
    },
    {
      "cell_type": "markdown",
      "metadata": {
        "id": "JuBxSgih_nC2"
      },
      "source": [
        "### Базовые типы данных\n",
        "\n",
        "- Числовые типы\n",
        "- Логический (boolean)\n",
        "- None\n",
        "\n",
        "Все типы данных являются объектами, т.е. **экземплярам** своих классов!\n",
        "\n",
        "\n"
      ]
    },
    {
      "cell_type": "code",
      "execution_count": 7,
      "metadata": {
        "colab": {
          "base_uri": "https://localhost:8080/"
        },
        "id": "zZliVXyv_nC3",
        "outputId": "4bef1014-f9d8-4379-e113-db184934498d"
      },
      "outputs": [
        {
          "name": "stdout",
          "output_type": "stream",
          "text": [
            "3\n"
          ]
        }
      ],
      "source": [
        "# Числовые типы и их приведение \n",
        "\n",
        "a = 3.14\n",
        "b = 3\n",
        "e = int (a)\n",
        "print (e)\n"
      ]
    },
    {
      "cell_type": "code",
      "execution_count": 8,
      "metadata": {},
      "outputs": [
        {
          "name": "stdout",
          "output_type": "stream",
          "text": [
            "<class 'float'>\n",
            "['__abs__', '__add__', '__bool__', '__ceil__', '__class__', '__delattr__', '__dir__', '__divmod__', '__doc__', '__eq__', '__float__', '__floor__', '__floordiv__', '__format__', '__ge__', '__getattribute__', '__getformat__', '__getnewargs__', '__getstate__', '__gt__', '__hash__', '__init__', '__init_subclass__', '__int__', '__le__', '__lt__', '__mod__', '__mul__', '__ne__', '__neg__', '__new__', '__pos__', '__pow__', '__radd__', '__rdivmod__', '__reduce__', '__reduce_ex__', '__repr__', '__rfloordiv__', '__rmod__', '__rmul__', '__round__', '__rpow__', '__rsub__', '__rtruediv__', '__setattr__', '__sizeof__', '__str__', '__sub__', '__subclasshook__', '__truediv__', '__trunc__', 'as_integer_ratio', 'conjugate', 'fromhex', 'hex', 'imag', 'is_integer', 'real']\n",
            "24\n",
            "28\n"
          ]
        }
      ],
      "source": [
        "# Все есть объекты!  \n",
        "\n",
        "print (type(a))\n",
        "print (dir(a))\n",
        "\n",
        "print (a.__sizeof__())\n",
        "print ((0).__sizeof__())\n"
      ]
    },
    {
      "cell_type": "markdown",
      "metadata": {
        "id": "mvXSRpOl_nC3"
      },
      "source": [
        "### Строки (str)"
      ]
    },
    {
      "cell_type": "code",
      "execution_count": 9,
      "metadata": {
        "colab": {
          "base_uri": "https://localhost:8080/",
          "height": 36
        },
        "id": "RjOgl4ra_nC3",
        "outputId": "7faf8365-b9fc-4ff0-9208-4249b112b370"
      },
      "outputs": [
        {
          "name": "stdout",
          "output_type": "stream",
          "text": [
            "hello urban meteorology and climatology\n",
            "3.14 -> 3\n"
          ]
        }
      ],
      "source": [
        "str1 = 'Hello Urban Meteorology!'\n",
        "\n",
        "str1 = (str1.replace('!','') + ' and Climatology').lower()\n",
        "print (str1)\n",
        "\n",
        "print (str(a) + ' -> ' + str (e))\n"
      ]
    },
    {
      "cell_type": "code",
      "execution_count": 10,
      "metadata": {},
      "outputs": [
        {
          "name": "stdout",
          "output_type": "stream",
          "text": [
            "h\n"
          ]
        },
        {
          "ename": "TypeError",
          "evalue": "'str' object does not support item assignment",
          "output_type": "error",
          "traceback": [
            "\u001b[1;31m---------------------------------------------------------------------------\u001b[0m",
            "\u001b[1;31mTypeError\u001b[0m                                 Traceback (most recent call last)",
            "Cell \u001b[1;32mIn[10], line 4\u001b[0m\n\u001b[0;32m      1\u001b[0m \u001b[38;5;66;03m# Строки неизменяемые\u001b[39;00m\n\u001b[0;32m      3\u001b[0m \u001b[38;5;28mprint\u001b[39m (str1[\u001b[38;5;241m0\u001b[39m])\n\u001b[1;32m----> 4\u001b[0m \u001b[43mstr1\u001b[49m\u001b[43m[\u001b[49m\u001b[38;5;241;43m0\u001b[39;49m\u001b[43m]\u001b[49m \u001b[38;5;241m=\u001b[39m \u001b[38;5;124m'\u001b[39m\u001b[38;5;124mA\u001b[39m\u001b[38;5;124m'\u001b[39m\n",
            "\u001b[1;31mTypeError\u001b[0m: 'str' object does not support item assignment"
          ]
        }
      ],
      "source": [
        "# Строки неизменяемые\n",
        "\n",
        "print (str1[0])\n",
        "str1[0] = 'A'"
      ]
    },
    {
      "cell_type": "code",
      "execution_count": 6,
      "metadata": {},
      "outputs": [
        {
          "name": "stdout",
          "output_type": "stream",
          "text": [
            "Hello UClim4HSE-2025 version 2025\n",
            "Hello UClim4HSE-2025 version 2025\n",
            "Hello UClim4HSE-2025 version 2025\n"
          ]
        }
      ],
      "source": [
        "## Форматирование строк\n",
        "\n",
        "course_name = 'UClim4HSE-2025'\n",
        "year = 2025\n",
        "\n",
        "print ('Hello {} version {}'.format(course_name, year))\n",
        "print ('Hello %s version %d'%(course_name, year))\n",
        "print (f'Hello {course_name} version {year}')\n"
      ]
    },
    {
      "cell_type": "markdown",
      "metadata": {
        "id": "7Txmvfiv_nC4"
      },
      "source": [
        "### Базовые структуры (контейнеры) данных\n",
        "\n",
        "\n",
        "- **Кортеж (tuple)** - неизменяемая упорядоченная коллекция (последовательность) элементов.\n",
        "- **Список [list]** - изменяемая упорядоченная коллеция (последовательность) элементов\n",
        "- **Множество {set}** - неупорядоченная коллекция уникальных элементов\n",
        "- **Словарь {dict}** - неупорядоченная коллекция элементов с доступом по ключу. Ключами должны быть скалярные типы (int, float, str) или кортежи."
      ]
    },
    {
      "cell_type": "code",
      "execution_count": 7,
      "metadata": {
        "id": "8o6SWPli_nC4"
      },
      "outputs": [
        {
          "name": "stdout",
          "output_type": "stream",
          "text": [
            "type(tup) = <class 'tuple'>\n",
            "tup[1] = 2\n",
            "a = 1\n",
            "16\n",
            "9\n"
          ]
        },
        {
          "ename": "TypeError",
          "evalue": "'tuple' object does not support item assignment",
          "output_type": "error",
          "traceback": [
            "\u001b[1;31m---------------------------------------------------------------------------\u001b[0m",
            "\u001b[1;31mTypeError\u001b[0m                                 Traceback (most recent call last)",
            "Cell \u001b[1;32mIn[7], line 16\u001b[0m\n\u001b[0;32m     13\u001b[0m \u001b[38;5;28mprint\u001b[39m (func (\u001b[38;5;241m4\u001b[39m,\u001b[38;5;241m4\u001b[39m,\u001b[38;5;241m4\u001b[39m,\u001b[38;5;241m4\u001b[39m))\n\u001b[0;32m     14\u001b[0m \u001b[38;5;28mprint\u001b[39m (func (\u001b[38;5;241m*\u001b[39mtup))\n\u001b[1;32m---> 16\u001b[0m \u001b[43mtup\u001b[49m\u001b[43m[\u001b[49m\u001b[38;5;241;43m1\u001b[39;49m\u001b[43m]\u001b[49m \u001b[38;5;241m=\u001b[39m \u001b[38;5;241m5\u001b[39m\n",
            "\u001b[1;31mTypeError\u001b[0m: 'tuple' object does not support item assignment"
          ]
        }
      ],
      "source": [
        "#кортеж и его распаковка\n",
        "\n",
        "tup = (1, 2, 3, 3)\n",
        "a,b,c,d = tup\n",
        "\n",
        "print (f'type(tup) = {type(tup)}')\n",
        "print (f'tup[1] = {tup[1]}')\n",
        "print (f'a = {a}')\n",
        "\n",
        "def func(a,b,c,d):\n",
        "    return a+b+c+d\n",
        "\n",
        "print (func (4,4,4,4))\n",
        "print (func (*tup))\n",
        "\n",
        "tup[1] = 5\n",
        "\n"
      ]
    },
    {
      "cell_type": "markdown",
      "metadata": {
        "id": "e3uqtSJjDkka"
      },
      "source": []
    },
    {
      "cell_type": "code",
      "execution_count": 8,
      "metadata": {
        "colab": {
          "base_uri": "https://localhost:8080/",
          "height": 69
        },
        "id": "c7lCB5VuHVV2",
        "outputId": "8f1da36b-4eff-4dbb-98ce-48fb049b59d5"
      },
      "outputs": [
        {
          "name": "stdout",
          "output_type": "stream",
          "text": [
            "list1: [0, 2, 4, 6, 8, 10, 12, 14, 16, 18]\n",
            "list2: [0, 2, 4, 6, 8, 10, 12, 14, 16, 18, 1000]\n",
            "False\n"
          ]
        }
      ],
      "source": [
        "#Списки и присваивание изменяемых типов\n",
        "\n",
        "list1 = list (range (0,20,2))\n",
        "\n",
        "list2 = list1.copy() #копирование списка\n",
        "#list2 = list1         #ссылка на l1\n",
        "\n",
        "list2.append (1000)\n",
        "\n",
        "print(f'list1: {list1}')\n",
        "print(f'list2: {list2}')\n",
        "\n",
        "print (list1 is list2) #проверка, являются ли list1 и list2 одним и тем же объектом\n",
        "\n",
        "\n"
      ]
    },
    {
      "cell_type": "code",
      "execution_count": 9,
      "metadata": {},
      "outputs": [
        {
          "name": "stdout",
          "output_type": "stream",
          "text": [
            "<method-wrapper '__hash__' of tuple object at 0x00000196D91013A0>\n",
            "None\n"
          ]
        }
      ],
      "source": [
        "# Изменяемые и неизменяемые типы данных и хеширование\n",
        "\n",
        "print (tup.__hash__)   \n",
        "print (list1.__hash__)  "
      ]
    },
    {
      "cell_type": "code",
      "execution_count": 10,
      "metadata": {
        "colab": {
          "base_uri": "https://localhost:8080/",
          "height": 34
        },
        "id": "Zz1hCNClI1q_",
        "outputId": "6dab5207-6c6f-45de-9896-075e979ccf79"
      },
      "outputs": [
        {
          "name": "stdout",
          "output_type": "stream",
          "text": [
            "{'model': 'EMVI-MET', 'exp_name': 'Moscow', 'version': 5, 'draw_plots': False}\n",
            "dict keys: ['model', 'exp_name', 'version', 'draw_plots']\n",
            "dict values: ['EMVI-MET', 'Moscow', 5, False]\n",
            "dict items: [('model', 'EMVI-MET'), ('exp_name', 'Moscow'), ('version', 5), ('draw_plots', False)]\n"
          ]
        }
      ],
      "source": [
        "# Словари\n",
        "\n",
        "# Ключем в словаре может быть любой неизменяемый (хешируемый) тип данных\n",
        "\n",
        "config = {'model':'WRF', 'exp_name': 'Moscow', 'version':5, 'draw_plots':False}\n",
        "\n",
        "config['model'] = 'EMVI-MET'\n",
        "\n",
        "print(config)\n",
        "print (f'dict keys: {list(config.keys())}')\n",
        "print (f'dict values: {list(config.values())}')\n",
        "print (f'dict items: {list(config.items())}')\n"
      ]
    },
    {
      "cell_type": "code",
      "execution_count": 11,
      "metadata": {
        "colab": {
          "base_uri": "https://localhost:8080/",
          "height": 34
        },
        "id": "bycsUjjDKfhn",
        "outputId": "11fa9b7b-d208-40db-cd9a-f439d1c0f825"
      },
      "outputs": [
        {
          "name": "stdout",
          "output_type": "stream",
          "text": [
            "[1, 1, 1, 3, 5, 125, 0, 5, 10, 15, 20, 25, 125, 1000]\n",
            "{0, 1, 3, 5, 1000, 10, 15, 20, 25, 125}\n"
          ]
        },
        {
          "data": {
            "text/plain": [
              "{'COSMO', 'WRF'}"
            ]
          },
          "metadata": {},
          "output_type": "display_data"
        }
      ],
      "source": [
        "# Множества (могу включать в себя только неизменяемые типы данных)\n",
        "\n",
        "\n",
        "\n",
        "list1 = [1, 1, 1, 3, 5, 125] + list (range (0, 30, 5)) + [125, 1000]\n",
        "\n",
        "print (list1)\n",
        "print (set (list1))\n",
        "\n",
        "set1 = {'aaa', 'bb', 'cc'}\n",
        "set2 = {'aaa', 'WRF', 'COSMO'}\n",
        "#test = 13 in s\n",
        "#display(test)\n",
        "\n",
        "display (set2.difference(set1))"
      ]
    },
    {
      "cell_type": "markdown",
      "metadata": {
        "id": "5ynWy_Vi_nC5"
      },
      "source": [
        "### Управление порядком исполнения\n",
        "- условные операторы\n",
        "- циклы\n",
        "- генераторы (например range)\n",
        "- функции"
      ]
    },
    {
      "cell_type": "code",
      "execution_count": null,
      "metadata": {},
      "outputs": [],
      "source": []
    },
    {
      "cell_type": "markdown",
      "metadata": {
        "id": "yJ94Fq_o_nC5"
      },
      "source": [
        "### Дата и время"
      ]
    },
    {
      "cell_type": "code",
      "execution_count": 12,
      "metadata": {
        "colab": {
          "base_uri": "https://localhost:8080/",
          "height": 69
        },
        "id": "5tFKzOrB_nC6",
        "outputId": "dd3c640b-a079-40a4-f381-960a595c1301"
      },
      "outputs": [
        {
          "data": {
            "text/plain": [
              "datetime.datetime"
            ]
          },
          "metadata": {},
          "output_type": "display_data"
        },
        {
          "data": {
            "text/plain": [
              "datetime.timedelta"
            ]
          },
          "metadata": {},
          "output_type": "display_data"
        },
        {
          "data": {
            "text/plain": [
              "33.178082191780824"
            ]
          },
          "metadata": {},
          "output_type": "display_data"
        }
      ],
      "source": [
        "from datetime import datetime\n",
        "\n",
        "now = datetime.now()\n",
        "\n",
        "birthday = datetime(1991, 12, 4, 0, 0, 0)\n",
        "age = now - birthday\n",
        "display(type (now))\n",
        "display(type (age))\n",
        "\n",
        "\n",
        "\n",
        "display(age.days / 365)\n"
      ]
    },
    {
      "cell_type": "markdown",
      "metadata": {
        "id": "ZFSsknZz_nC6"
      },
      "source": [
        "### Синтаксичесий сахар\n",
        "- вычисления на списках\n",
        "- маппинг (map) - применение функции ко всем элементам перечислимого аргумента\n",
        "- лямбда-фунции\n",
        "- упаковка (zip)"
      ]
    },
    {
      "cell_type": "code",
      "execution_count": 13,
      "metadata": {
        "colab": {
          "base_uri": "https://localhost:8080/",
          "height": 225
        },
        "id": "sw62C1Qf_nC7",
        "outputId": "03cfb851-ad10-4250-82ff-b0093e2718b2"
      },
      "outputs": [
        {
          "data": {
            "text/plain": [
              "[datetime.datetime(2010, 1, 1, 0, 0),\n",
              " datetime.datetime(2010, 2, 1, 0, 0),\n",
              " datetime.datetime(2010, 3, 1, 0, 0),\n",
              " datetime.datetime(2010, 4, 1, 0, 0),\n",
              " datetime.datetime(2010, 5, 1, 0, 0),\n",
              " datetime.datetime(2010, 6, 1, 0, 0),\n",
              " datetime.datetime(2010, 7, 1, 0, 0),\n",
              " datetime.datetime(2010, 8, 1, 0, 0),\n",
              " datetime.datetime(2010, 9, 1, 0, 0),\n",
              " datetime.datetime(2010, 10, 1, 0, 0),\n",
              " datetime.datetime(2010, 11, 1, 0, 0),\n",
              " datetime.datetime(2010, 12, 1, 0, 0)]"
            ]
          },
          "metadata": {},
          "output_type": "display_data"
        }
      ],
      "source": [
        "#вычисление на списках\n",
        "\n",
        "dates = [datetime(2010,x,1) for x in range(1,13)]\n",
        "display(dates)\n",
        "#display([date.strftime('%Y-%m-%d %H:%M') for date in dates])"
      ]
    },
    {
      "cell_type": "code",
      "execution_count": 14,
      "metadata": {
        "colab": {
          "base_uri": "https://localhost:8080/"
        },
        "id": "kR5pUT01_nC8",
        "outputId": "66ac6a8d-b7e2-44fe-c73d-804c745670f8"
      },
      "outputs": [
        {
          "name": "stdout",
          "output_type": "stream",
          "text": [
            "word number 0 is 'hello 1st of 9'\n",
            "word number 1 is 'hello 2nd of 9'\n",
            "word number 2 is 'hello 3rd of 9'\n",
            "word number 3 is 'hello 4th of 9'\n",
            "word number 4 is 'hello 5th of 9'\n",
            "word number 5 is 'hello 6th of 9'\n",
            "word number 6 is 'hello 7th of 9'\n",
            "word number 7 is 'hello 8th of 9'\n",
            "word number 8 is 'hello 9th of 9'\n"
          ]
        }
      ],
      "source": [
        "#упаковка \n",
        "\n",
        "def ordinal(n):\n",
        "    if 10 <= n % 100 <= 20:\n",
        "        suffix = 'th'\n",
        "    else:\n",
        "        suffix = {1: 'st', 2: 'nd', 3: 'rd'}.get(n % 10, 'th')\n",
        "    return str(n) + suffix\n",
        "\n",
        "numbers = list (range(1,10))\n",
        "\n",
        "\n",
        "words = [f'hello {ordinal(n)} of {len(numbers)}' for n in numbers]\n",
        "\n",
        "#print (list (zip (numbers, words)))\n",
        "\n",
        "# for n, word in zip (numbers, words):\n",
        "#     print (f'word number {n} is \\'{word}\\'')\n",
        "\n",
        "for i, word in enumerate (words):\n",
        "    print (f'word number {i} is \\'{word}\\'')\n"
      ]
    },
    {
      "cell_type": "code",
      "execution_count": 15,
      "metadata": {
        "colab": {
          "base_uri": "https://localhost:8080/"
        },
        "id": "HpKb-r1e_nC8",
        "outputId": "2ecf48ff-cc96-495e-b4e3-7da34d681ab8"
      },
      "outputs": [
        {
          "name": "stdout",
          "output_type": "stream",
          "text": [
            "[1, 4, 9, 16, 25, 36, 49, 64, 81]\n"
          ]
        },
        {
          "data": {
            "text/plain": [
              "['hello 1',\n",
              " 'hello 2',\n",
              " 'hello 3',\n",
              " 'hello 4',\n",
              " 'hello 5',\n",
              " 'hello 6',\n",
              " 'hello 7',\n",
              " 'hello 8',\n",
              " 'hello 9']"
            ]
          },
          "execution_count": 15,
          "metadata": {},
          "output_type": "execute_result"
        }
      ],
      "source": [
        "#маппинг и лямбда функции\n",
        "\n",
        "import math\n",
        "\n",
        "def square (x):\n",
        "    return x**2\n",
        "\n",
        "numbers2 = list (map (square, numbers))\n",
        "#numbers2 = [int (x) for x in list (map (math.pow, numbers, [2]*len(numbers)))]\n",
        "print (numbers2)\n",
        "\n",
        "\n",
        "words1 = map (lambda n: 'hello ' + '%d'%n, numbers)\n",
        "#words1 = map (lambda n: 'hello ' + ''.join ([f'{nn}, ' for nn in range(n+1)]), numbers2)\n",
        "list(words1)"
      ]
    },
    {
      "cell_type": "markdown",
      "metadata": {
        "id": "nq-Jqs5l_nC9"
      },
      "source": [
        "### Чуть-чуть Numpy и случайных чисел"
      ]
    },
    {
      "cell_type": "code",
      "execution_count": 2,
      "metadata": {
        "colab": {
          "base_uri": "https://localhost:8080/",
          "height": 332
        },
        "id": "V1m4Rli0_nC-",
        "outputId": "89908bb2-4909-4d98-fd11-a116b87a3cac"
      },
      "outputs": [
        {
          "data": {
            "text/plain": [
              "array([[4.17022005e-01, 7.20324493e-01, 1.14374817e-04, 3.02332573e-01,\n",
              "        1.46755891e-01, 9.23385948e-02, 1.86260211e-01, 3.45560727e-01,\n",
              "        3.96767474e-01, 5.38816734e-01],\n",
              "       [4.19194514e-01, 6.85219500e-01, 2.04452250e-01, 8.78117436e-01,\n",
              "        2.73875932e-02, 6.70467510e-01, 4.17304802e-01, 5.58689828e-01,\n",
              "        1.40386939e-01, 1.98101489e-01],\n",
              "       [8.00744569e-01, 9.68261576e-01, 3.13424178e-01, 6.92322616e-01,\n",
              "        8.76389152e-01, 8.94606664e-01, 8.50442114e-02, 3.90547832e-02,\n",
              "        1.69830420e-01, 8.78142503e-01],\n",
              "       [9.83468338e-02, 4.21107625e-01, 9.57889530e-01, 5.33165285e-01,\n",
              "        6.91877114e-01, 3.15515631e-01, 6.86500928e-01, 8.34625672e-01,\n",
              "        1.82882773e-02, 7.50144315e-01],\n",
              "       [9.88861089e-01, 7.48165654e-01, 2.80443992e-01, 7.89279328e-01,\n",
              "        1.03226007e-01, 4.47893526e-01, 9.08595503e-01, 2.93614148e-01,\n",
              "        2.87775339e-01, 1.30028572e-01],\n",
              "       [1.93669579e-02, 6.78835533e-01, 2.11628116e-01, 2.65546659e-01,\n",
              "        4.91573159e-01, 5.33625451e-02, 5.74117605e-01, 1.46728575e-01,\n",
              "        5.89305537e-01, 6.99758360e-01],\n",
              "       [1.02334429e-01, 4.14055988e-01, 6.94400158e-01, 4.14179270e-01,\n",
              "        4.99534589e-02, 5.35896406e-01, 6.63794645e-01, 5.14889112e-01,\n",
              "        9.44594756e-01, 5.86555041e-01],\n",
              "       [9.03401915e-01, 1.37474704e-01, 1.39276347e-01, 8.07391289e-01,\n",
              "        3.97676837e-01, 1.65354197e-01, 9.27508580e-01, 3.47765860e-01,\n",
              "        7.50812103e-01, 7.25997985e-01],\n",
              "       [8.83306091e-01, 6.23672207e-01, 7.50942434e-01, 3.48898342e-01,\n",
              "        2.69927892e-01, 8.95886218e-01, 4.28091190e-01, 9.64840047e-01,\n",
              "        6.63441498e-01, 6.21695720e-01],\n",
              "       [1.14745973e-01, 9.49489259e-01, 4.49912133e-01, 5.78389614e-01,\n",
              "        4.08136803e-01, 2.37026980e-01, 9.03379521e-01, 5.73679487e-01,\n",
              "        2.87032703e-03, 6.17144914e-01]])"
            ]
          },
          "metadata": {},
          "output_type": "display_data"
        }
      ],
      "source": [
        "import numpy as np\n",
        "\n",
        "np.random.seed(1) # + np.eps)\n",
        "arr1 = np.random.rand(10,10) #uniform distribution\n",
        "arr2 = np.random.normal(size=(10,10)) #normal distribution\n",
        "\n",
        "display(arr1)\n",
        "#display(arr1.ndim)\n",
        "#display(arr2)\n",
        "\n",
        "#display(arr1.mean(axis = 0))\n",
        "#display(arr2.mean())\n",
        "\n",
        "#display(arr1.std())\n",
        "#display(arr2.std())"
      ]
    },
    {
      "cell_type": "markdown",
      "metadata": {
        "id": "kyu6SkjH_nC_"
      },
      "source": [
        "### Случайное блуждание и наш первый график"
      ]
    },
    {
      "cell_type": "code",
      "execution_count": 7,
      "metadata": {
        "colab": {
          "base_uri": "https://localhost:8080/",
          "height": 452
        },
        "id": "ILlt8GL9_nC_",
        "outputId": "68862dd8-e03e-4a04-e7f4-464c938fa022"
      },
      "outputs": [
        {
          "data": {
            "image/png": "[encoded data removed]",
            "text/plain": [
              "<Figure size 640x480 with 1 Axes>"
            ]
          },
          "metadata": {},
          "output_type": "display_data"
        }
      ],
      "source": [
        "from matplotlib import pyplot as plt\n",
        "import matplotlib\n",
        "%matplotlib inline\n",
        "#matplotlib.use('Qt5Agg')  # Use Qt5 as the backend\n",
        "\n",
        "steps = np.random.normal(size=1000)\n",
        "\n",
        "pos = np.cumsum(steps)\n",
        "\n",
        "plt.figure()\n",
        "plt.plot (pos)\n",
        "plt.plot (np.convolve(pos, np.ones(50)/50, 'same'))\n",
        "plt.show()\n",
        "\n"
      ]
    }
  ],
  "metadata": {
    "colab": {
      "provenance": []
    },
    "kernelspec": {
      "display_name": "base",
      "language": "python",
      "name": "python3"
    },
    "language_info": {
      "codemirror_mode": {
        "name": "ipython",
        "version": 3
      },
      "file_extension": ".py",
      "mimetype": "text/x-python",
      "name": "python",
      "nbconvert_exporter": "python",
      "pygments_lexer": "ipython3",
      "version": "3.11.7"
    }
  },
  "nbformat": 4,
  "nbformat_minor": 0
}
