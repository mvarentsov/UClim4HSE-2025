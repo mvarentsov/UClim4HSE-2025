{
  "cells": [
    {
      "cell_type": "markdown",
      "metadata": {
        "id": "34gWDace_nCv"
      },
      "source": [
        "# Технические средства анализа данных\n",
        "\n",
        "### Полезные ссылки:\n",
        "\n",
        "- <a href=\"https://www.anaconda.com/download\">Anaconda distribution</a><br/>\n",
        "- <a href=\"https://code.visualstudio.com/docs/?dv=win64user\">VS Code</a> - VS Code IDE<br/>\n",
        "- <a href=\"https://www.jetbrains.com/pycharm/\">PyCharm</a> - PyCharm  IDE<br/>\n",
        "- <a href=\"https://colab.research.google.com/\">Google Colab</a> - Google Colab<br/>\n",
        "- <a href=\"https://numpy.org/\">Numpy documentation</a><br />\n",
        "- <a href=\"https://pandas.pydata.org/\">Pandas documentation</a><br />\n",
        "- <a href=\"https://matplotlib.org/\">Matplotlib documentation</a>\n",
        "\n",
        "### Дополнительные материалы:\n",
        "\n",
        "- [Питон для анализа данных(курс Физтеха)](https://miptstats.github.io/courses/python.html)<br />\n",
        "- [pythontutor (онлайн учебник Python)](https://pythontutor.ru/)<br />\n",
        "- [Cody, AI-помощник в написании кода](https://sourcegraph.com/cody)<br />\n",
        "- AI-помощники на основе ChatGPT в Телеграмм (ищите сами что больше нравится)<br />\n",
        "- [stackoverflow](https://stackoverflow.com/)<br />\n"
      ]
    },
    {
      "cell_type": "code",
      "execution_count": null,
      "metadata": {
        "id": "zhcbdCy-_nCz",
        "outputId": "4072789b-e71c-4a36-a2e0-e661aa774a1a"
      },
      "outputs": [],
      "source": [
        "print ('hello world of Urban Climate Informatics!')"
      ]
    },
    {
      "cell_type": "markdown",
      "metadata": {
        "id": "JuBxSgih_nC2"
      },
      "source": [
        "### Базовые типы данных\n",
        "\n",
        "- Числовые типы\n",
        "- Логический (boolean)\n",
        "- None\n",
        "\n",
        "Все типы данных являются объектами, т.е. **экземплярам** своих классов!\n",
        "\n",
        "\n"
      ]
    },
    {
      "cell_type": "code",
      "execution_count": null,
      "metadata": {
        "colab": {
          "base_uri": "https://localhost:8080/"
        },
        "id": "zZliVXyv_nC3",
        "outputId": "4bef1014-f9d8-4379-e113-db184934498d"
      },
      "outputs": [],
      "source": [
        "# Числовые типы и их приведение \n",
        "\n",
        "a = 3.14\n",
        "b = 3\n",
        "e = int (a)\n",
        "print (e)\n"
      ]
    },
    {
      "cell_type": "code",
      "execution_count": null,
      "metadata": {},
      "outputs": [],
      "source": [
        "# Все есть объекты!  \n",
        "\n",
        "print (type(a))\n",
        "print (dir(a))\n",
        "\n",
        "print (a.__sizeof__())\n",
        "print ((0).__sizeof__())\n"
      ]
    },
    {
      "cell_type": "markdown",
      "metadata": {
        "id": "mvXSRpOl_nC3"
      },
      "source": [
        "### Строки (str)"
      ]
    },
    {
      "cell_type": "code",
      "execution_count": null,
      "metadata": {
        "colab": {
          "base_uri": "https://localhost:8080/",
          "height": 36
        },
        "id": "RjOgl4ra_nC3",
        "outputId": "7faf8365-b9fc-4ff0-9208-4249b112b370"
      },
      "outputs": [],
      "source": [
        "str1 = 'Hello Urban Meteorology!'\n",
        "\n",
        "str1 = (str1.replace('!','') + ' and Climatology').lower()\n",
        "print (str1)\n",
        "\n",
        "print (str(a) + ' -> ' + str (e))\n"
      ]
    },
    {
      "cell_type": "code",
      "execution_count": null,
      "metadata": {},
      "outputs": [],
      "source": [
        "# Строки неизменяемые\n",
        "\n",
        "print (str1[0])\n",
        "str1[0] = 'A'"
      ]
    },
    {
      "cell_type": "code",
      "execution_count": null,
      "metadata": {},
      "outputs": [],
      "source": [
        "## Форматирование строк\n",
        "\n",
        "course_name = 'UClim4HSE-2025'\n",
        "year = 2025\n",
        "\n",
        "print ('Hello {} version {}'.format(course_name, year))\n",
        "print ('Hello %s version %d'%(course_name, year))\n",
        "print (f'Hello {course_name} version {year}')\n"
      ]
    },
    {
      "cell_type": "markdown",
      "metadata": {
        "id": "7Txmvfiv_nC4"
      },
      "source": [
        "### Базовые структуры (контейнеры) данных\n",
        "\n",
        "\n",
        "- **Кортеж (tuple)** - неизменяемая упорядоченная коллекция (последовательность) элементов.\n",
        "- **Список [list]** - изменяемая упорядоченная коллеция (последовательность) элементов\n",
        "- **Множество {set}** - неупорядоченная коллекция уникальных элементов\n",
        "- **Словарь {dict}** - неупорядоченная коллекция элементов с доступом по ключу. Ключами должны быть скалярные типы (int, float, str) или кортежи."
      ]
    },
    {
      "cell_type": "code",
      "execution_count": null,
      "metadata": {
        "id": "8o6SWPli_nC4"
      },
      "outputs": [],
      "source": [
        "#кортеж и его распаковка\n",
        "\n",
        "tup = (1, 2, 3, 3)\n",
        "a,b,c,d = tup\n",
        "\n",
        "print (f'type(tup) = {type(tup)}')\n",
        "print (f'tup[1] = {tup[1]}')\n",
        "print (f'a = {a}')\n",
        "\n",
        "def func(a,b,c,d):\n",
        "    return a+b+c+d\n",
        "\n",
        "print (func (4,4,4,4))\n",
        "print (func (*tup))\n",
        "\n",
        "tup[1] = 5\n",
        "\n"
      ]
    },
    {
      "cell_type": "markdown",
      "metadata": {
        "id": "e3uqtSJjDkka"
      },
      "source": []
    },
    {
      "cell_type": "code",
      "execution_count": null,
      "metadata": {
        "colab": {
          "base_uri": "https://localhost:8080/",
          "height": 69
        },
        "id": "c7lCB5VuHVV2",
        "outputId": "8f1da36b-4eff-4dbb-98ce-48fb049b59d5"
      },
      "outputs": [],
      "source": [
        "#Списки и присваивание изменяемых типов\n",
        "\n",
        "list1 = list (range (0,20,2))\n",
        "\n",
        "list2 = list1.copy() #копирование списка\n",
        "#list2 = list1         #ссылка на l1\n",
        "\n",
        "list2.append (1000)\n",
        "\n",
        "print(f'list1: {list1}')\n",
        "print(f'list2: {list2}')\n",
        "\n",
        "print (list1 is list2) #проверка, являются ли list1 и list2 одним и тем же объектом\n",
        "\n",
        "\n"
      ]
    },
    {
      "cell_type": "code",
      "execution_count": null,
      "metadata": {},
      "outputs": [],
      "source": [
        "# Изменяемые и неизменяемые типы данных и хеширование\n",
        "\n",
        "print (tup.__hash__)   \n",
        "print (list1.__hash__)  "
      ]
    },
    {
      "cell_type": "code",
      "execution_count": null,
      "metadata": {
        "colab": {
          "base_uri": "https://localhost:8080/",
          "height": 34
        },
        "id": "Zz1hCNClI1q_",
        "outputId": "6dab5207-6c6f-45de-9896-075e979ccf79"
      },
      "outputs": [],
      "source": [
        "# Словари\n",
        "\n",
        "# Ключем в словаре может быть любой неизменяемый (хешируемый) тип данных\n",
        "\n",
        "config = {'model':'WRF', 'exp_name': 'Moscow', 'version':5, 'draw_plots':False}\n",
        "\n",
        "config['model'] = 'EMVI-MET'\n",
        "\n",
        "print(config)\n",
        "print (f'dict keys: {list(config.keys())}')\n",
        "print (f'dict values: {list(config.values())}')\n",
        "print (f'dict items: {list(config.items())}')\n"
      ]
    },
    {
      "cell_type": "code",
      "execution_count": null,
      "metadata": {
        "colab": {
          "base_uri": "https://localhost:8080/",
          "height": 34
        },
        "id": "bycsUjjDKfhn",
        "outputId": "11fa9b7b-d208-40db-cd9a-f439d1c0f825"
      },
      "outputs": [],
      "source": [
        "# Множества (могу включать в себя только неизменяемые типы данных)\n",
        "\n",
        "\n",
        "\n",
        "list1 = [1, 1, 1, 3, 5, 125] + list (range (0, 30, 5)) + [125, 1000]\n",
        "\n",
        "print (list1)\n",
        "print (set (list1))\n",
        "\n",
        "set1 = {'aaa', 'bb', 'cc'}\n",
        "set2 = {'aaa', 'WRF', 'COSMO'}\n",
        "#test = 13 in s\n",
        "#display(test)\n",
        "\n",
        "display (set2.difference(set1))"
      ]
    },
    {
      "cell_type": "markdown",
      "metadata": {
        "id": "5ynWy_Vi_nC5"
      },
      "source": [
        "### Управление порядком исполнения\n",
        "- условные операторы\n",
        "- циклы\n",
        "- генераторы (например range)\n",
        "- функции"
      ]
    },
    {
      "cell_type": "code",
      "execution_count": null,
      "metadata": {},
      "outputs": [],
      "source": []
    },
    {
      "cell_type": "markdown",
      "metadata": {
        "id": "yJ94Fq_o_nC5"
      },
      "source": [
        "### Дата и время"
      ]
    },
    {
      "cell_type": "code",
      "execution_count": null,
      "metadata": {
        "colab": {
          "base_uri": "https://localhost:8080/",
          "height": 69
        },
        "id": "5tFKzOrB_nC6",
        "outputId": "dd3c640b-a079-40a4-f381-960a595c1301"
      },
      "outputs": [],
      "source": [
        "from datetime import datetime\n",
        "\n",
        "now = datetime.now()\n",
        "\n",
        "birthday = datetime(1991, 12, 4, 0, 0, 0)\n",
        "age = now - birthday\n",
        "display(type (now))\n",
        "display(type (age))\n",
        "\n",
        "\n",
        "\n",
        "display(age.days / 365)\n"
      ]
    },
    {
      "cell_type": "markdown",
      "metadata": {
        "id": "ZFSsknZz_nC6"
      },
      "source": [
        "### Синтаксичесий сахар\n",
        "- вычисления на списках\n",
        "- маппинг (map) - применение функции ко всем элементам перечислимого аргумента\n",
        "- лямбда-фунции\n",
        "- упаковка (zip)"
      ]
    },
    {
      "cell_type": "code",
      "execution_count": null,
      "metadata": {
        "colab": {
          "base_uri": "https://localhost:8080/",
          "height": 225
        },
        "id": "sw62C1Qf_nC7",
        "outputId": "03cfb851-ad10-4250-82ff-b0093e2718b2"
      },
      "outputs": [],
      "source": [
        "#вычисление на списках\n",
        "\n",
        "dates = [datetime(2010,x,1) for x in range(1,13)]\n",
        "display(dates)\n",
        "#display([date.strftime('%Y-%m-%d %H:%M') for date in dates])"
      ]
    },
    {
      "cell_type": "code",
      "execution_count": null,
      "metadata": {
        "colab": {
          "base_uri": "https://localhost:8080/"
        },
        "id": "kR5pUT01_nC8",
        "outputId": "66ac6a8d-b7e2-44fe-c73d-804c745670f8"
      },
      "outputs": [],
      "source": [
        "#упаковка \n",
        "\n",
        "def ordinal(n):\n",
        "    if 10 <= n % 100 <= 20:\n",
        "        suffix = 'th'\n",
        "    else:\n",
        "        suffix = {1: 'st', 2: 'nd', 3: 'rd'}.get(n % 10, 'th')\n",
        "    return str(n) + suffix\n",
        "\n",
        "numbers = list (range(1,10))\n",
        "\n",
        "\n",
        "words = [f'hello {ordinal(n)} of {len(numbers)}' for n in numbers]\n",
        "\n",
        "#print (list (zip (numbers, words)))\n",
        "\n",
        "# for n, word in zip (numbers, words):\n",
        "#     print (f'word number {n} is \\'{word}\\'')\n",
        "\n",
        "for i, word in enumerate (words):\n",
        "    print (f'word number {i} is \\'{word}\\'')\n"
      ]
    },
    {
      "cell_type": "code",
      "execution_count": null,
      "metadata": {
        "colab": {
          "base_uri": "https://localhost:8080/"
        },
        "id": "HpKb-r1e_nC8",
        "outputId": "2ecf48ff-cc96-495e-b4e3-7da34d681ab8"
      },
      "outputs": [],
      "source": [
        "#маппинг и лямбда функции\n",
        "\n",
        "import math\n",
        "\n",
        "def square (x):\n",
        "    return x**2\n",
        "\n",
        "numbers2 = list (map (square, numbers))\n",
        "#numbers2 = [int (x) for x in list (map (math.pow, numbers, [2]*len(numbers)))]\n",
        "print (numbers2)\n",
        "\n",
        "\n",
        "words1 = map (lambda n: 'hello ' + '%d'%n, numbers)\n",
        "#words1 = map (lambda n: 'hello ' + ''.join ([f'{nn}, ' for nn in range(n+1)]), numbers2)\n",
        "list(words1)"
      ]
    },
    {
      "cell_type": "markdown",
      "metadata": {
        "id": "nq-Jqs5l_nC9"
      },
      "source": [
        "### Чуть-чуть Numpy и случайных чисел"
      ]
    },
    {
      "cell_type": "code",
      "execution_count": null,
      "metadata": {
        "colab": {
          "base_uri": "https://localhost:8080/",
          "height": 332
        },
        "id": "V1m4Rli0_nC-",
        "outputId": "89908bb2-4909-4d98-fd11-a116b87a3cac"
      },
      "outputs": [],
      "source": [
        "import numpy as np\n",
        "\n",
        "np.random.seed(1) # + np.eps)\n",
        "arr1 = np.random.rand(10,10) #uniform distribution\n",
        "arr2 = np.random.normal(size=(10,10)) #normal distribution\n",
        "\n",
        "display(arr1)\n",
        "#display(arr1.ndim)\n",
        "#display(arr2)\n",
        "\n",
        "#display(arr1.mean(axis = 0))\n",
        "#display(arr2.mean())\n",
        "\n",
        "#display(arr1.std())\n",
        "#display(arr2.std())"
      ]
    },
    {
      "cell_type": "markdown",
      "metadata": {
        "id": "kyu6SkjH_nC_"
      },
      "source": [
        "### Случайное блуждание и наш первый график"
      ]
    },
    {
      "cell_type": "code",
      "execution_count": null,
      "metadata": {
        "colab": {
          "base_uri": "https://localhost:8080/",
          "height": 452
        },
        "id": "ILlt8GL9_nC_",
        "outputId": "68862dd8-e03e-4a04-e7f4-464c938fa022"
      },
      "outputs": [],
      "source": [
        "from matplotlib import pyplot as plt\n",
        "\n",
        "steps = np.random.normal(size=1000)\n",
        "\n",
        "pos = np.cumsum(steps)\n",
        "\n",
        "plt.figure()\n",
        "plt.plot (pos)\n",
        "plt.plot (np.convolve(pos, np.ones(50)/50, 'same'))\n"
      ]
    }
  ],
  "metadata": {
    "colab": {
      "provenance": []
    },
    "kernelspec": {
      "display_name": "base",
      "language": "python",
      "name": "python3"
    },
    "language_info": {
      "codemirror_mode": {
        "name": "ipython",
        "version": 3
      },
      "file_extension": ".py",
      "mimetype": "text/x-python",
      "name": "python",
      "nbconvert_exporter": "python",
      "pygments_lexer": "ipython3",
      "version": "3.11.7"
    }
  },
  "nbformat": 4,
  "nbformat_minor": 0
}
