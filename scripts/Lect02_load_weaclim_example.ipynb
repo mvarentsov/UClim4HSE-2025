{
 "cells": [
  {
   "cell_type": "code",
   "execution_count": 1,
   "metadata": {},
   "outputs": [],
   "source": [
    "import meteo_utils\n",
    "from datetime import date, datetime, timedelta"
   ]
  },
  {
   "cell_type": "markdown",
   "metadata": {},
   "source": [
    "## Парсинг данных с сайта"
   ]
  },
  {
   "cell_type": "code",
   "execution_count": null,
   "metadata": {},
   "outputs": [],
   "source": [
    "station_id = 'KJFK'      # идентификатор станции, с которой нужны наблюдения    \n",
    "start = date (2023,1,1) # начало периода загрузки данных \n",
    "end = date.today()      # конец  периода загрузки данных  \n",
    "\n",
    "meteo_utils.load_weaclim4period (station_id, start, end, 'weaclim_data', adress=\"http://www.pogodaiklimat.ru/weather.php?\")  #adress=\"http://www.pogodaiklimat.ru/usaweather.php?\""
   ]
  },
  {
   "cell_type": "markdown",
   "metadata": {},
   "source": [
    "## Чтение скачанных и сохраненных данных"
   ]
  },
  {
   "cell_type": "code",
   "execution_count": null,
   "metadata": {},
   "outputs": [],
   "source": [
    "path = r'weaclim_data\\27612'\n",
    "\n",
    "df = meteo_utils.read_weaclim_dir (path)"
   ]
  },
  {
   "cell_type": "code",
   "execution_count": null,
   "metadata": {},
   "outputs": [],
   "source": [
    "df.head()"
   ]
  }
 ],
 "metadata": {
  "kernelspec": {
   "display_name": "base",
   "language": "python",
   "name": "python3"
  },
  "language_info": {
   "codemirror_mode": {
    "name": "ipython",
    "version": 3
   },
   "file_extension": ".py",
   "mimetype": "text/x-python",
   "name": "python",
   "nbconvert_exporter": "python",
   "pygments_lexer": "ipython3",
   "version": "3.11.7"
  }
 },
 "nbformat": 4,
 "nbformat_minor": 2
}
