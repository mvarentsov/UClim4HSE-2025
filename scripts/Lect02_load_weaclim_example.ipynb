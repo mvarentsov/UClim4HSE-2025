{
 "cells": [
  {
   "cell_type": "code",
   "execution_count": null,
   "metadata": {},
   "outputs": [],
   "source": []
  },
  {
   "cell_type": "markdown",
   "metadata": {},
   "source": [
    "## Парсинг данных с сайта"
   ]
  },
  {
   "cell_type": "code",
   "execution_count": null,
   "metadata": {},
   "outputs": [],
   "source": [
    "station_id = 'KJFK'      # идентификатор станции, с которой нужны наблюдения    \n",
    "start = date (2023,1,1) # начало периода загрузки данных \n",
    "end = date.today()      # конец  периода загрузки данных  \n",
    "\n",
    "meteo_utils.load_weaclim4period (station_id, start, end, 'weaclim_data', adress=\"http://www.pogodaiklimat.ru/weather.php?\")  #adress=\"http://www.pogodaiklimat.ru/usaweather.php?\""
   ]
  },
  {
   "cell_type": "markdown",
   "metadata": {},
   "source": [
    "## Чтение скачанных и сохраненных данных"
   ]
  },
  {
   "cell_type": "code",
   "execution_count": 16,
   "metadata": {},
   "outputs": [],
   "source": [
    "import meteo_utils\n",
    "from datetime import date, datetime, timedelta\n",
    "\n",
    "import importlib\n",
    "importlib.reload(meteo_utils)\n",
    "\n",
    "path = r\"D:\\!Work\\!teaching\\HSE Urban climate modelling 2025\\22559\\22559\"\n",
    "\n",
    "df = meteo_utils.read_weaclim_dir (path)"
   ]
  },
  {
   "cell_type": "code",
   "execution_count": 17,
   "metadata": {},
   "outputs": [
    {
     "data": {
      "text/html": [
       "<div>\n",
       "<style scoped>\n",
       "    .dataframe tbody tr th:only-of-type {\n",
       "        vertical-align: middle;\n",
       "    }\n",
       "\n",
       "    .dataframe tbody tr th {\n",
       "        vertical-align: top;\n",
       "    }\n",
       "\n",
       "    .dataframe thead th {\n",
       "        text-align: right;\n",
       "    }\n",
       "</style>\n",
       "<table border=\"1\" class=\"dataframe\">\n",
       "  <thead>\n",
       "    <tr style=\"text-align: right;\">\n",
       "      <th></th>\n",
       "      <th>t2m</th>\n",
       "      <th>rh2m</th>\n",
       "      <th>slp</th>\n",
       "      <th>ps</th>\n",
       "      <th>vel10m</th>\n",
       "      <th>gust10m</th>\n",
       "      <th>tcc</th>\n",
       "      <th>lcc</th>\n",
       "      <th>dir10m</th>\n",
       "    </tr>\n",
       "    <tr>\n",
       "      <th>Datetime</th>\n",
       "      <th></th>\n",
       "      <th></th>\n",
       "      <th></th>\n",
       "      <th></th>\n",
       "      <th></th>\n",
       "      <th></th>\n",
       "      <th></th>\n",
       "      <th></th>\n",
       "      <th></th>\n",
       "    </tr>\n",
       "  </thead>\n",
       "  <tbody>\n",
       "    <tr>\n",
       "      <th>2022-01-01 12:00:00</th>\n",
       "      <td>-7.1</td>\n",
       "      <td>92.0</td>\n",
       "      <td>989.2</td>\n",
       "      <td>987.5</td>\n",
       "      <td>1.0</td>\n",
       "      <td>NaN</td>\n",
       "      <td>10.0</td>\n",
       "      <td>8.0</td>\n",
       "      <td>225.0</td>\n",
       "    </tr>\n",
       "    <tr>\n",
       "      <th>2022-01-01 15:00:00</th>\n",
       "      <td>-8.7</td>\n",
       "      <td>91.0</td>\n",
       "      <td>989.7</td>\n",
       "      <td>988.0</td>\n",
       "      <td>1.0</td>\n",
       "      <td>NaN</td>\n",
       "      <td>10.0</td>\n",
       "      <td>3.0</td>\n",
       "      <td>225.0</td>\n",
       "    </tr>\n",
       "    <tr>\n",
       "      <th>2022-01-01 18:00:00</th>\n",
       "      <td>-9.1</td>\n",
       "      <td>92.0</td>\n",
       "      <td>990.9</td>\n",
       "      <td>989.2</td>\n",
       "      <td>2.0</td>\n",
       "      <td>NaN</td>\n",
       "      <td>10.0</td>\n",
       "      <td>6.0</td>\n",
       "      <td>270.0</td>\n",
       "    </tr>\n",
       "    <tr>\n",
       "      <th>2022-01-01 21:00:00</th>\n",
       "      <td>-9.9</td>\n",
       "      <td>93.0</td>\n",
       "      <td>992.1</td>\n",
       "      <td>990.4</td>\n",
       "      <td>2.0</td>\n",
       "      <td>NaN</td>\n",
       "      <td>10.0</td>\n",
       "      <td>8.0</td>\n",
       "      <td>270.0</td>\n",
       "    </tr>\n",
       "    <tr>\n",
       "      <th>2022-01-02 00:00:00</th>\n",
       "      <td>-11.5</td>\n",
       "      <td>91.0</td>\n",
       "      <td>993.8</td>\n",
       "      <td>992.1</td>\n",
       "      <td>3.0</td>\n",
       "      <td>NaN</td>\n",
       "      <td>10.0</td>\n",
       "      <td>4.0</td>\n",
       "      <td>315.0</td>\n",
       "    </tr>\n",
       "  </tbody>\n",
       "</table>\n",
       "</div>"
      ],
      "text/plain": [
       "                      t2m  rh2m    slp     ps  vel10m  gust10m   tcc  lcc  \\\n",
       "Datetime                                                                    \n",
       "2022-01-01 12:00:00  -7.1  92.0  989.2  987.5     1.0      NaN  10.0  8.0   \n",
       "2022-01-01 15:00:00  -8.7  91.0  989.7  988.0     1.0      NaN  10.0  3.0   \n",
       "2022-01-01 18:00:00  -9.1  92.0  990.9  989.2     2.0      NaN  10.0  6.0   \n",
       "2022-01-01 21:00:00  -9.9  93.0  992.1  990.4     2.0      NaN  10.0  8.0   \n",
       "2022-01-02 00:00:00 -11.5  91.0  993.8  992.1     3.0      NaN  10.0  4.0   \n",
       "\n",
       "                     dir10m  \n",
       "Datetime                     \n",
       "2022-01-01 12:00:00   225.0  \n",
       "2022-01-01 15:00:00   225.0  \n",
       "2022-01-01 18:00:00   270.0  \n",
       "2022-01-01 21:00:00   270.0  \n",
       "2022-01-02 00:00:00   315.0  "
      ]
     },
     "execution_count": 17,
     "metadata": {},
     "output_type": "execute_result"
    }
   ],
   "source": [
    "df.head()"
   ]
  }
 ],
 "metadata": {
  "kernelspec": {
   "display_name": "ML",
   "language": "python",
   "name": "python3"
  },
  "language_info": {
   "codemirror_mode": {
    "name": "ipython",
    "version": 3
   },
   "file_extension": ".py",
   "mimetype": "text/x-python",
   "name": "python",
   "nbconvert_exporter": "python",
   "pygments_lexer": "ipython3",
   "version": "3.12.8"
  }
 },
 "nbformat": 4,
 "nbformat_minor": 2
}
